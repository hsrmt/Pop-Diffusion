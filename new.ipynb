{
 "cells": [
  {
   "cell_type": "code",
   "execution_count": null,
   "metadata": {},
   "outputs": [],
   "source": [
    "list=['1','2','3','4','5','6','7','8','9','10']\n",
    "for i in list:\n",
    "    a=i #@param {type:\"string\"} \n",
    "    print('i',a)\n",
    "#how to use param in print function\n",
    "diffusion_model = \"512x512_diffusion_uncond_finetune_008100\" #@param [\"256x256_diffusion_uncond\", \"512x512_diffusion_uncond_finetune_008100\"]\n",
    "\n"
   ]
  },
  {
   "cell_type": "code",
   "execution_count": 5,
   "metadata": {},
   "outputs": [
    {
     "data": {
      "application/vnd.jupyter.widget-view+json": {
       "model_id": "8fbdc3e21f2f4409b238edfe5d02e2ba",
       "version_major": 2,
       "version_minor": 0
      },
      "text/plain": [
       "interactive(children=(Select(description='country', options=('USA', 'Russia'), value='USA'), Output()), _dom_c…"
      ]
     },
     "metadata": {},
     "output_type": "display_data"
    },
    {
     "data": {
      "application/vnd.jupyter.widget-view+json": {
       "model_id": "8db04ee8e17a48b09f6f47275b47ac30",
       "version_major": 2,
       "version_minor": 0
      },
      "text/plain": [
       "interactive(children=(Select(description='city', options=('CHI', 'NYC'), value='CHI'), Output()), _dom_classes…"
      ]
     },
     "metadata": {},
     "output_type": "display_data"
    }
   ],
   "source": [
    "#from IPython.html import widgets\n",
    "from IPython.display import display\n",
    "import ipywidgets as widgets\n",
    "geo={'USA':['CHI','NYC'],'Russia':['MOW','LED']}\n",
    "\n",
    "\n",
    "\n",
    "def print_city(city):\n",
    "    print (city)\n",
    "\n",
    "def select_city(country):\n",
    "    cityW.options = geo[country]\n",
    "\n",
    "\n",
    "scW = widgets.Select(options=geo.keys())\n",
    "init = scW.value\n",
    "cityW = widgets.Select(options=geo[init])\n",
    "j = widgets.interactive(print_city, city=cityW)\n",
    "i = widgets.interactive(select_city, country=scW)\n",
    "display(i)\n",
    "display(j)"
   ]
  },
  {
   "cell_type": "code",
   "execution_count": 11,
   "metadata": {},
   "outputs": [],
   "source": [
    "import cv2\n",
    "import numpy as np\n",
    "from PIL import Image\n",
    "from PIL import ImageFont\n",
    "from PIL import ImageDraw \n",
    "from matplotlib import pyplot as plt\n",
    "\n",
    "opencv_image=cv2.imread(\"tiger.jpg\") # open image using openCV2\n",
    "#show image using CV2\n",
    "cv2.imwrite(\"fgdfhr.jpg\", opencv_image)\n",
    "# convert from openCV2 to PIL. Notice the COLOR_BGR2RGB which means that \n",
    "# the color is converted from BGR to RGB\n",
    "color_coverted = cv2.cvtColor(opencv_image, cv2.COLOR_BGR2RGB)\n",
    "pil_image=Image.fromarray(color_coverted)\n",
    "draw = ImageDraw.Draw(pil_image)\n",
    "# font = ImageFont.truetype(<font-file>, <font-size>)\n",
    "font = ImageFont.truetype(\"arial.ttf\", 36)\n",
    "# draw.text((x, y),\"Sample Text\",(r,g,b))\n",
    "draw.text((0, 0),\"Sample İİİİText\",(255,255,255),font=font)\n",
    "pil_image.show()\n",
    "pil_image.save('sample-out.png')\n",
    "opencv_image=np.array(pil_image)\n",
    "opencv_image=opencv_image[:,:,::-1].copy()\n",
    "#save a cv2 image\n",
    "#cv2.imwrite(\"Ohwl.png\", opencv_image)"
   ]
  }
 ],
 "metadata": {
  "kernelspec": {
   "display_name": "Python 3.10.2 64-bit (system)",
   "language": "python",
   "name": "python3"
  },
  "language_info": {
   "codemirror_mode": {
    "name": "ipython",
    "version": 3
   },
   "file_extension": ".py",
   "mimetype": "text/x-python",
   "name": "python",
   "nbconvert_exporter": "python",
   "pygments_lexer": "ipython3",
   "version": "3.10.2"
  },
  "orig_nbformat": 4,
  "vscode": {
   "interpreter": {
    "hash": "53f863a9f451e7000b4b9b9d7d88bc8be771f20c6dcbef3c744fc7109f2868eb"
   }
  }
 },
 "nbformat": 4,
 "nbformat_minor": 2
}
