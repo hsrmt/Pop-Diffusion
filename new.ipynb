{
 "cells": [
  {
   "cell_type": "code",
   "execution_count": null,
   "metadata": {},
   "outputs": [],
   "source": [
    "list=['1','2','3','4','5','6','7','8','9','10']\n",
    "for i in list:\n",
    "    a=i #@param {type:\"string\"} \n",
    "    print('i',a)\n",
    "#how to use param in print function\n",
    "diffusion_model = \"512x512_diffusion_uncond_finetune_008100\" #@param [\"256x256_diffusion_uncond\", \"512x512_diffusion_uncond_finetune_008100\"]\n",
    "\n"
   ]
  },
  {
   "cell_type": "code",
   "execution_count": 5,
   "metadata": {},
   "outputs": [
    {
     "data": {
      "application/vnd.jupyter.widget-view+json": {
       "model_id": "8fbdc3e21f2f4409b238edfe5d02e2ba",
       "version_major": 2,
       "version_minor": 0
      },
      "text/plain": [
       "interactive(children=(Select(description='country', options=('USA', 'Russia'), value='USA'), Output()), _dom_c…"
      ]
     },
     "metadata": {},
     "output_type": "display_data"
    },
    {
     "data": {
      "application/vnd.jupyter.widget-view+json": {
       "model_id": "8db04ee8e17a48b09f6f47275b47ac30",
       "version_major": 2,
       "version_minor": 0
      },
      "text/plain": [
       "interactive(children=(Select(description='city', options=('CHI', 'NYC'), value='CHI'), Output()), _dom_classes…"
      ]
     },
     "metadata": {},
     "output_type": "display_data"
    }
   ],
   "source": [
    "#from IPython.html import widgets\n",
    "from IPython.display import display\n",
    "import ipywidgets as widgets\n",
    "geo={'USA':['CHI','NYC'],'Russia':['MOW','LED']}\n",
    "\n",
    "\n",
    "\n",
    "def print_city(city):\n",
    "    print (city)\n",
    "\n",
    "def select_city(country):\n",
    "    cityW.options = geo[country]\n",
    "\n",
    "\n",
    "scW = widgets.Select(options=geo.keys())\n",
    "init = scW.value\n",
    "cityW = widgets.Select(options=geo[init])\n",
    "j = widgets.interactive(print_city, city=cityW)\n",
    "i = widgets.interactive(select_city, country=scW)\n",
    "display(i)\n",
    "display(j)"
   ]
  },
  {
   "cell_type": "code",
   "execution_count": 11,
   "metadata": {},
   "outputs": [],
   "source": [
    "import cv2\n",
    "import numpy as np\n",
    "from PIL import Image\n",
    "from PIL import ImageFont\n",
    "from PIL import ImageDraw \n",
    "from matplotlib import pyplot as plt\n",
    "\n",
    "opencv_image=cv2.imread(\"tiger.jpg\") # open image using openCV2\n",
    "#show image using CV2\n",
    "cv2.imwrite(\"fgdfhr.jpg\", opencv_image)\n",
    "# convert from openCV2 to PIL. Notice the COLOR_BGR2RGB which means that \n",
    "# the color is converted from BGR to RGB\n",
    "color_coverted = cv2.cvtColor(opencv_image, cv2.COLOR_BGR2RGB)\n",
    "pil_image=Image.fromarray(color_coverted)\n",
    "draw = ImageDraw.Draw(pil_image)\n",
    "# font = ImageFont.truetype(<font-file>, <font-size>)\n",
    "font = ImageFont.truetype(\"arial.ttf\", 36)\n",
    "# draw.text((x, y),\"Sample Text\",(r,g,b))\n",
    "draw.text((0, 0),\"Sample İİİİText\",(255,255,255),font=font)\n",
    "pil_image.show()\n",
    "pil_image.save('sample-out.png')\n",
    "opencv_image=np.array(pil_image)\n",
    "opencv_image=opencv_image[:,:,::-1].copy()\n",
    "#save a cv2 image\n",
    "#cv2.imwrite(\"Ohwl.png\", opencv_image)"
   ]
  },
  {
   "cell_type": "code",
   "execution_count": null,
   "metadata": {},
   "outputs": [],
   "source": [
    "from requests import get\n",
    "import os\n",
    "import json\n",
    "dir = os.path.dirname(os.path.realpath(\"_file_\"))\n",
    "print(dir)\n",
    "dir = '/content/drive/MyDrive/Colab Notebooks'\n",
    "filename = get('http://172.28.0.2:9000/api/sessions').json()[0]['name']\n",
    "print(dir +'/' + filename)\n",
    "with open(dir +'/' + filename, 'r') as f:\n",
    "    s = f.read()\n",
    "    print(s)\n",
    "json_file=open(dir +'/' + filename)\n",
    "data = json.load(json_file)\n",
    "print(data.keys())\n",
    "for key in data.keys():\n",
    "  print(data[key])\n",
    "for key in data[\"cells\"][0]:\n",
    "  print(key, data[\"cells\"][0][key])\n",
    "\n",
    "print(key, data[\"cells\"][0][\"source\"].split('\\n').split('#this')[1])\n",
    "\n",
    "#this comment is used to indicate the beginning of prompt creation DONT CHANGE!!!!\n",
    "people_artists = ['Edward Burne-Jones', 'Karol Bak', 'Jeff Easley', 'Brian Froud', 'Wendy Froud', 'Peter Gric', 'Jim Burns', 'Michael Whelan', 'Tyler Edlin', 'H.P. Lovecraft', 'Tim Burton', 'Yoshitaka Amano', 'Wes Anderson', 'Esao Andrews', 'Giuseppe Arcimboldo', 'Banksy', 'Ivan Bilibin', 'Alexander Bogen', 'Sandro Botticelli', 'Caravaggio', 'Camille Corot', 'Walter Crane', 'Geof Darrow', 'Eugene Delacroix', 'Paul Delvaux', 'Edmund Dulac', 'Albrecht Dürer', 'Larry Elmore', 'John Philip Falter', 'Caspar David Friedrich', 'Francisco Goya', 'Rebecca Guay', 'Winslow Homer', 'Edward Hopper', 'Frida Kahlo', 'Gustav Klimt', 'Ilya Kuvshinov', 'Rene Magritte', 'Don Maitz', 'John Martin', 'Peter Max', 'Robert McCall', 'Ralph McQuarrie', 'Frank Miller', 'Moebius', 'Chris Moore', 'Alphonse Mucha', 'Ted Nasmith', 'Victo Ngai', 'Rafal Olbinski', 'Diego Rivera', 'Hubert Robert', 'Andreas Rocha', 'Norman Rockwell', 'Egon Schiele', 'Ivan Shishkin', 'Marc Simonetti', 'Zack Snyder', 'Joaquín Sorolla', 'Simon Stalenhag', 'Ross Tran', 'Vincent Van Gogh', 'Rembrandt van Rijn', 'Ron Walotsky', 'Andy Warhol', 'Liam Wong', 'Yuumei', 'Amir Zand', 'Edgar Degas', 'Asher Brown Durand', 'Giovanni Battista Gaulli', 'Donato Giancola', 'John Atkinson Grimshaw', 'James Gurney', 'Jamie Hewlett', 'Ernst Ludwig Kirchner', 'Claude Monet', 'Igor Morski', 'Victor Moscoso', 'Craig Mullins', 'Nicholas Roerich', 'Hans Baldung', 'John Bauer', 'Julie Bell', 'Hans Bellmer', 'Mary Blair', 'William Blake', 'Victor Brauner', 'Gaston Bussière', 'Claude Cahun', 'Clyde Caldwell', 'Canaletto', 'Marcel Chagall', 'James C. Christensen', 'Giorgio de Chirico', 'Evelyn De Morgan', 'Henri de Toulouse-Lautrec', 'Gustave Doré', 'Jesper Ejsing', 'Harold Elliott', 'Anton Otto Fischer', 'Art Fitzpatrick', 'Jean-Honoré Fragonard', 'Victoria Francés', 'Frank Frazetta', 'Josan Gonzalez', 'Bastien Lecouffe-Deharme', 'George Luks', 'Victor Adame Minguez', 'Peter Mohrbacher', 'Ilya Repin', 'RHADS', 'Masamune Shirow', 'Coby Whitmore', 'Alex Grey', 'Junji Ito', 'Mati Klarwein', 'Kazimir Malevich', 'Clovis Trouille', 'Diego Velázquez', 'Qian Xuan', 'Nele Zirnite', 'Simon Bisley', 'Pascal Blanché', 'Arnold Böcklin', 'Camille-Pierre Pambu Bodo', 'William-Adolphe Bouguereau', 'Eleanor Vere Boyle', 'Arik Brauer', 'Pieter Bruegel the Elder', 'Paul Cézanne', 'Leonardo da Vinci', 'Richard Dadd', 'Max Ernst', 'Kelly Freas', 'Ernst Fuchs', 'Henry Fuseli', 'Paul Gauguin', 'Emma Geary', 'Artemisia Gentileschi', 'Warwick Goble', 'Rob Gonsalves', 'Jane Graverol', 'Henriette Grindat', 'Matthias Grünewald', 'Thomas Häfner', 'Sydney Prior Hall', 'Keith Haring', 'Rudolf Hausner', 'Brothers Hildebrandt', 'Tim Hildebrandt', 'Greg Hildebrandt', 'William Hogarth', 'Kati Horna', 'Valentine Hugo', 'George Inness', 'Jarosław Jaśnikowski', 'Joe Jusko', 'Filippino Lippi', 'Bob Ringwood', 'Jakub Rozalski', 'Greg Rutkowski', 'Mike Winkelmann', 'Seb McKinnon', 'Daniel Merriam', 'Sylvain Sarrailh', 'Tom Lovell', 'Haddon Sundblom', 'Eddie Mendoza', 'Eugeniusz Zak', 'Frank Zappa', 'Pablo Dominguez', 'Cicely Mary Barker', 'Amy Brown', 'Stephanie Law', 'Neil Welliver', 'Child Hassam', 'Henri Matisse', 'Jules Dupré', 'Pieter Brueghel the Elder', 'Theodore Robinson', 'Alexei Savrasov', 'Arkhip Kuindzhi', 'Claude Lorraine', 'Pablo Amaringo', 'Pascal Blanche', 'Adam Varga', 'Android Jones', 'Simon Hennessey', 'Denis Peterson', 'Robert Bechtle', 'Gustavo Silva Nuez', 'Claudio Bravo', 'Gottfried Helnwein', 'István Sándorfi', 'Nestor Leynes', 'Franz Gertsch', 'Kareem Olamilekan', 'Dragan Malešević Tapi', 'Ian Hornak', 'Otto Duecker', 'Antoni Taulé', 'Willem van Veldhuizen', 'Andrey Lekarski', 'Walther Jervolino', 'Diego Koi', 'Allyssa Monks', 'Luiz Escanuela', 'Dirk Dzimirsky']\n",
    "import random\n",
    "random_artist = random.choice(people_artists)\n",
    "text_prompts = {}\n",
    "\n",
    "for i in range(50):\n",
    "  text_prompts[i] = [\n",
    "            \"Beautiful detailed portrait of an animal demigoddess by Nick Silva,\" +random.choice(people_artists)+\", \"+random.choice(people_artists)+\", Symmetrical composition with people centered, trending on artstation, colorized:4\",\n",
    "            \"text:-2\",\n",
    "            \"glasses:-1\",\n",
    "            \"color:1\"\n",
    "        ]\n",
    "\n",
    "image_prompts = {\n",
    "    # 0:['ImagePromptsWorkButArentVeryGood.png:2',],\n",
    "}\n",
    "#this comment is used to indicate the end of prompt creation DONT CHANGE!!!!"
   ]
  }
 ],
 "metadata": {
  "kernelspec": {
   "display_name": "Python 3.10.2 64-bit (system)",
   "language": "python",
   "name": "python3"
  },
  "language_info": {
   "codemirror_mode": {
    "name": "ipython",
    "version": 3
   },
   "file_extension": ".py",
   "mimetype": "text/x-python",
   "name": "python",
   "nbconvert_exporter": "python",
   "pygments_lexer": "ipython3",
   "version": "3.10.2"
  },
  "orig_nbformat": 4,
  "vscode": {
   "interpreter": {
    "hash": "53f863a9f451e7000b4b9b9d7d88bc8be771f20c6dcbef3c744fc7109f2868eb"
   }
  }
 },
 "nbformat": 4,
 "nbformat_minor": 2
}
