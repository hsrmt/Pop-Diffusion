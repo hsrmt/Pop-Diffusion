{
 "cells": [
  {
   "cell_type": "code",
   "execution_count": 6,
   "metadata": {},
   "outputs": [
    {
     "data": {
      "application/vnd.jupyter.widget-view+json": {
       "model_id": "e91f8186fc6d40b9b4c14e3ec60c9f5a",
       "version_major": 2,
       "version_minor": 0
      },
      "text/plain": [
       "Button(description='Test Button', style=ButtonStyle())"
      ]
     },
     "metadata": {},
     "output_type": "display_data"
    }
   ],
   "source": [
    "from IPython.display import display\n",
    "import ipywidgets as widgets\n",
    "\n",
    "\n",
    "def clicked(arg):\n",
    "    print(\"button has been clicked!\")\n",
    "\n",
    "button_download = widgets.Button(description = 'Test Button')   \n",
    "button_download.on_click(clicked)\n",
    "display(button_download)"
   ]
  },
  {
   "cell_type": "code",
   "execution_count": 13,
   "metadata": {},
   "outputs": [
    {
     "name": "stdout",
     "output_type": "stream",
     "text": [
      "This is not a test\n"
     ]
    }
   ],
   "source": [
    "def working(new,testing=True):\n",
    "    if testing:\n",
    "        print(\"This is a test\")\n",
    "    else:\n",
    "        print(\"This is not a test\")\n",
    "\n",
    "working(testing=False,new=True)"
   ]
  }
 ],
 "metadata": {
  "kernelspec": {
   "display_name": "Python 3.10.2 64-bit (system)",
   "language": "python",
   "name": "python3"
  },
  "language_info": {
   "codemirror_mode": {
    "name": "ipython",
    "version": 3
   },
   "file_extension": ".py",
   "mimetype": "text/x-python",
   "name": "python",
   "nbconvert_exporter": "python",
   "pygments_lexer": "ipython3",
   "version": "3.10.2"
  },
  "orig_nbformat": 4,
  "vscode": {
   "interpreter": {
    "hash": "53f863a9f451e7000b4b9b9d7d88bc8be771f20c6dcbef3c744fc7109f2868eb"
   }
  }
 },
 "nbformat": 4,
 "nbformat_minor": 2
}
