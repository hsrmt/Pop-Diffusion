{
 "cells": [
  {
   "cell_type": "code",
   "execution_count": 6,
   "metadata": {},
   "outputs": [
    {
     "data": {
      "application/vnd.jupyter.widget-view+json": {
       "model_id": "e91f8186fc6d40b9b4c14e3ec60c9f5a",
       "version_major": 2,
       "version_minor": 0
      },
      "text/plain": [
       "Button(description='Test Button', style=ButtonStyle())"
      ]
     },
     "metadata": {},
     "output_type": "display_data"
    }
   ],
   "source": [
    "from IPython.display import display\n",
    "import ipywidgets as widgets\n",
    "\n",
    "\n",
    "def clicked(arg):\n",
    "    print(\"button has been clicked!\")\n",
    "\n",
    "button_download = widgets.Button(description = 'Test Button')   \n",
    "button_download.on_click(clicked)\n",
    "display(button_download)"
   ]
  }
 ],
 "metadata": {
  "kernelspec": {
   "display_name": "Python 3.10.2 64-bit (system)",
   "language": "python",
   "name": "python3"
  },
  "language_info": {
   "codemirror_mode": {
    "name": "ipython",
    "version": 3
   },
   "file_extension": ".py",
   "mimetype": "text/x-python",
   "name": "python",
   "nbconvert_exporter": "python",
   "pygments_lexer": "ipython3",
   "version": "3.10.2"
  },
  "orig_nbformat": 4,
  "vscode": {
   "interpreter": {
    "hash": "53f863a9f451e7000b4b9b9d7d88bc8be771f20c6dcbef3c744fc7109f2868eb"
   }
  }
 },
 "nbformat": 4,
 "nbformat_minor": 2
}
