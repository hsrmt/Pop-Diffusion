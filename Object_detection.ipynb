{
  "cells": [
    {
      "cell_type": "markdown",
      "metadata": {
        "id": "N6ZDpd9XzFeN"
      },
      "source": [
        "##### Copyright 2018 The TensorFlow Hub Authors.\n",
        "\n",
        "Licensed under the Apache License, Version 2.0 (the \"License\");"
      ]
    },
    {
      "cell_type": "code",
      "execution_count": null,
      "metadata": {
        "cellView": "both",
        "id": "KUu4vOt5zI9d",
        "vscode": {
          "languageId": "python"
        }
      },
      "outputs": [],
      "source": [
        "# Copyright 2018 The TensorFlow Hub Authors. All Rights Reserved.\n",
        "#\n",
        "# Licensed under the Apache License, Version 2.0 (the \"License\");\n",
        "# you may not use this file except in compliance with the License.\n",
        "# You may obtain a copy of the License at\n",
        "#\n",
        "#     http://www.apache.org/licenses/LICENSE-2.0\n",
        "#\n",
        "# Unless required by applicable law or agreed to in writing, software\n",
        "# distributed under the License is distributed on an \"AS IS\" BASIS,\n",
        "# WITHOUT WARRANTIES OR CONDITIONS OF ANY KIND, either express or implied.\n",
        "# See the License for the specific language governing permissions and\n",
        "# limitations under the License.\n",
        "# =============================================================================="
      ]
    },
    {
      "cell_type": "markdown",
      "metadata": {
        "id": "CxmDMK4yupqg"
      },
      "source": [
        "# Object Detection\n"
      ]
    },
    {
      "cell_type": "markdown",
      "metadata": {
        "id": "MfBg1C5NB3X0"
      },
      "source": [
        "<table class=\"tfo-notebook-buttons\" align=\"left\">\n",
        "  <td>\n",
        "    <a target=\"_blank\" href=\"https://www.tensorflow.org/hub/tutorials/object_detection\"><img src=\"https://www.tensorflow.org/images/tf_logo_32px.png\" />View on TensorFlow.org</a>\n",
        "  </td>\n",
        "  <td>\n",
        "    <a target=\"_blank\" href=\"https://colab.research.google.com/github/tensorflow/hub/blob/master/examples/colab/object_detection.ipynb\"><img src=\"https://www.tensorflow.org/images/colab_logo_32px.png\" />Run in Google Colab</a>\n",
        "  </td>\n",
        "  <td>\n",
        "    <a target=\"_blank\" href=\"https://github.com/tensorflow/hub/blob/master/examples/colab/object_detection.ipynb\"><img src=\"https://www.tensorflow.org/images/GitHub-Mark-32px.png\" />View on GitHub</a>\n",
        "  </td>\n",
        "  <td>\n",
        "    <a href=\"https://storage.googleapis.com/tensorflow_docs/hub/examples/colab/object_detection.ipynb\"><img src=\"https://www.tensorflow.org/images/download_logo_32px.png\" />Download notebook</a>\n",
        "  </td>\n",
        "  <td>\n",
        "    <a href=\"https://tfhub.dev/s?q=google%2Ffaster_rcnn%2Fopenimages_v4%2Finception_resnet_v2%2F1%20OR%20google%2Ffaster_rcnn%2Fopenimages_v4%2Finception_resnet_v2%2F1\"><img src=\"https://www.tensorflow.org/images/hub_logo_32px.png\" />See TF Hub models</a>\n",
        "  </td>\n",
        "</table>"
      ]
    },
    {
      "cell_type": "markdown",
      "metadata": {
        "id": "Sy553YSVmYiK"
      },
      "source": [
        "This Colab demonstrates use of a TF-Hub module trained to perform object detection."
      ]
    },
    {
      "cell_type": "markdown",
      "metadata": {
        "id": "v4XGxDrCkeip"
      },
      "source": [
        "## Setup\n"
      ]
    },
    {
      "cell_type": "code",
      "execution_count": null,
      "metadata": {
        "id": "__YRa0SfPwU8",
        "vscode": {
          "languageId": "python"
        }
      },
      "outputs": [],
      "source": [
        "from google.colab import drive\n",
        "drive.mount('/content/drive')"
      ]
    },
    {
      "cell_type": "code",
      "execution_count": null,
      "metadata": {
        "id": "6cPY9Ou4sWs_",
        "vscode": {
          "languageId": "python"
        }
      },
      "outputs": [],
      "source": [
        "#@title Imports and function definitions\n",
        "\n",
        "# For running inference on the TF-Hub module.\n",
        "import tensorflow as tf\n",
        "\n",
        "import tensorflow_hub as hub\n",
        "\n",
        "# For downloading the image.\n",
        "import matplotlib.pyplot as plt\n",
        "import tempfile\n",
        "from six.moves.urllib.request import urlopen\n",
        "from six import BytesIO\n",
        "\n",
        "# For drawing onto the image.\n",
        "import numpy as np\n",
        "from PIL import Image\n",
        "from PIL import ImageColor\n",
        "from PIL import ImageDraw\n",
        "from PIL import ImageFont\n",
        "from PIL import ImageOps\n",
        "\n",
        "# For measuring the inference time.\n",
        "import time\n",
        "import json\n",
        "\n",
        "import os\n",
        "\n",
        "# Print Tensorflow version\n",
        "print(tf.__version__)\n",
        "\n",
        "# Check available GPU devices.\n",
        "print(\"The following GPU devices are available: %s\" % tf.test.gpu_device_name())"
      ]
    },
    {
      "cell_type": "markdown",
      "metadata": {
        "id": "ZGkrXGy62409"
      },
      "source": [
        "## Example use"
      ]
    },
    {
      "cell_type": "markdown",
      "metadata": {
        "id": "vlA3CftFpRiW"
      },
      "source": [
        "### Helper functions for downloading images and for visualization.\n",
        "\n",
        "Visualization code adapted from [TF object detection API](https://github.com/tensorflow/models/blob/master/research/object_detection/utils/visualization_utils.py) for the simplest required functionality."
      ]
    },
    {
      "cell_type": "code",
      "execution_count": null,
      "metadata": {
        "id": "D9IwDpOtpIHW",
        "vscode": {
          "languageId": "python"
        }
      },
      "outputs": [],
      "source": [
        "def display_image(image):\n",
        "  fig = plt.figure(figsize=(20, 15))\n",
        "  plt.grid(False)\n",
        "  plt.imshow(image)\n",
        "\n",
        "\n",
        "def download_and_resize_image(url, new_width=256, new_height=256,\n",
        "                              display=False):\n",
        "  # _, filename = tempfile.mkstemp(suffix=\".jpg\")\n",
        "  # response = urlopen(url)\n",
        "  # image_data = response.read()\n",
        "  # image_data = BytesIO(image_data)\n",
        "  pil_image = Image.open(url)\n",
        "  pil_image = ImageOps.fit(pil_image, (new_width, new_height), Image.ANTIALIAS)\n",
        "  pil_image_rgb = pil_image.convert(\"RGB\")\n",
        "  pil_image_rgb.save(\"resized.jpeg\", format=\"JPEG\", quality=90)\n",
        "  print(\"Image downloaded to %s.\" % \"resized.jpeg\")\n",
        "  if display:\n",
        "    display_image(pil_image)\n",
        "  return \"resized.jpeg\"\n",
        "\n",
        "\n",
        "def draw_bounding_box_on_image(image,\n",
        "                               ymin,\n",
        "                               xmin,\n",
        "                               ymax,\n",
        "                               xmax,\n",
        "                               color,\n",
        "                               font,\n",
        "                               thickness=4,\n",
        "                               display_str_list=()):\n",
        "  \"\"\"Adds a bounding box to an image.\"\"\"\n",
        "  draw = ImageDraw.Draw(image)\n",
        "  im_width, im_height = image.size\n",
        "  (left, right, top, bottom) = (xmin * im_width, xmax * im_width,\n",
        "                                ymin * im_height, ymax * im_height)\n",
        "  #using left,right,top,bottom, calculate the area of the box\n",
        "  area = abs(right - left) * abs(bottom - top)\n",
        "\n",
        "  draw.line([(left, top), (left, bottom), (right, bottom), (right, top),\n",
        "             (left, top)],\n",
        "            width=thickness,\n",
        "            fill=color)\n",
        "\n",
        "  # If the total height of the display strings added to the top of the bounding\n",
        "  # box exceeds the top of the image, stack the strings below the bounding box\n",
        "  # instead of above.\n",
        "  display_str_heights = [font.getsize(ds)[1] for ds in display_str_list]\n",
        "  # Each display_str has a top and bottom margin of 0.05x.\n",
        "  total_display_str_height = (1 + 2 * 0.05) * sum(display_str_heights)\n",
        "\n",
        "  if top > total_display_str_height:\n",
        "    text_bottom = top\n",
        "  else:\n",
        "    text_bottom = top + total_display_str_height\n",
        "  # Reverse list and print from bottom to top.\n",
        "  for display_str in display_str_list[::-1]:\n",
        "    text_width, text_height = font.getsize(display_str)\n",
        "    margin = np.ceil(0.05 * text_height)\n",
        "    draw.rectangle([(left, text_bottom - text_height - 2 * margin),\n",
        "                    (left + text_width, text_bottom)],\n",
        "                   fill=color)\n",
        "    draw.text((left + margin, text_bottom - text_height - margin),\n",
        "              display_str,\n",
        "              fill=\"black\",\n",
        "              font=font)\n",
        "    text_bottom -= text_height - 2 * margin\n",
        "  return area\n",
        "\n",
        "def draw_boxes(image, boxes, class_names, scores, median_index, max_boxes=10, min_score=0.1):\n",
        "  \"\"\"Overlay labeled boxes on an image with formatted scores and label names.\"\"\"\n",
        "  colors = list(ImageColor.colormap.values())\n",
        "\n",
        "  try:\n",
        "    font = ImageFont.truetype(\"/usr/share/fonts/truetype/liberation/LiberationSansNarrow-Regular.ttf\",\n",
        "                              25)\n",
        "  except IOError:\n",
        "    print(\"Font not found, using default font.\")\n",
        "    font = ImageFont.load_default()\n",
        "\n",
        "  box_areas = []\n",
        "  for i in range(min(boxes.shape[0], max_boxes)):\n",
        "    if i == median_index:\n",
        "    #if scores[i] >= min_score:\n",
        "      ymin, xmin, ymax, xmax = tuple(boxes[i])\n",
        "      display_str = \"{}: {}%\".format(class_names[i].decode(\"ascii\"),\n",
        "                                     int(100 * scores[i]))\n",
        "      color = colors[hash(class_names[i]) % len(colors)]\n",
        "      image_pil = Image.fromarray(np.uint8(image)).convert(\"RGB\")\n",
        "      area = draw_bounding_box_on_image(\n",
        "          image_pil,\n",
        "          ymin,\n",
        "          xmin,\n",
        "          ymax,\n",
        "          xmax,\n",
        "          color,\n",
        "          font,\n",
        "          display_str_list=[display_str])\n",
        "      box_areas.append(area)\n",
        "      np.copyto(image, np.array(image_pil))\n",
        "  return box_areas, image"
      ]
    },
    {
      "cell_type": "markdown",
      "metadata": {
        "id": "D19UCu9Q2-_8"
      },
      "source": [
        "## Apply module\n",
        "\n",
        "Load a public image from Open Images v4, save locally, and display."
      ]
    },
    {
      "cell_type": "code",
      "execution_count": null,
      "metadata": {
        "id": "YLWNhjUY1mhg",
        "vscode": {
          "languageId": "python"
        }
      },
      "outputs": [],
      "source": [
        "# By Heiko Gorski, Source: https://commons.wikimedia.org/wiki/File:Naxos_Taverna.jpg\n",
        "#image_url = \"/content/drive/MyDrive/AI/Disco_Diffusion/images_out/x10_ant_long3/x10_ant_long3(-1)_0969.png\"  #@param\n",
        "#downloaded_image_path = download_and_resize_image(image_url, 1280, 856, True)"
      ]
    },
    {
      "cell_type": "markdown",
      "metadata": {
        "id": "t-VdfLbC1w51"
      },
      "source": [
        "Pick an object detection module and apply on the downloaded image. Modules:\n",
        "* **FasterRCNN+InceptionResNet V2**: high accuracy,\n",
        "* **ssd+mobilenet V2**: small and fast."
      ]
    },
    {
      "cell_type": "code",
      "execution_count": null,
      "metadata": {
        "id": "uazJ5ASc2_QE",
        "vscode": {
          "languageId": "python"
        }
      },
      "outputs": [],
      "source": [
        "module_handle = \"https://tfhub.dev/google/faster_rcnn/openimages_v4/inception_resnet_v2/1\" #@param [\"https://tfhub.dev/google/openimages_v4/ssd/mobilenet_v2/1\", \"https://tfhub.dev/google/faster_rcnn/openimages_v4/inception_resnet_v2/1\"]\n",
        "\n",
        "detector = hub.load(module_handle).signatures['default']\n",
        "\n",
        "request_directory = '/content/drive/MyDrive/AI/Object_Detection/request'\n"
      ]
    },
    {
      "cell_type": "code",
      "execution_count": null,
      "metadata": {
        "id": "znW8Fq1EC0x7",
        "vscode": {
          "languageId": "python"
        }
      },
      "outputs": [],
      "source": [
        "def load_img(path):\n",
        "  img = tf.io.read_file(path)\n",
        "  img = tf.image.decode_jpeg(img, channels=3)\n",
        "  return img"
      ]
    },
    {
      "cell_type": "code",
      "execution_count": null,
      "metadata": {
        "id": "kwGJV96WWBLH",
        "vscode": {
          "languageId": "python"
        }
      },
      "outputs": [],
      "source": [
        "def run_detector(detector, path):\n",
        "  img = load_img(path)\n",
        "\n",
        "  converted_img  = tf.image.convert_image_dtype(img, tf.float32)[tf.newaxis, ...]\n",
        "  start_time = time.time()\n",
        "  result = detector(converted_img)\n",
        "  end_time = time.time()\n",
        "\n",
        "  result = {key:value.numpy() for key,value in result.items()}\n",
        "\n",
        "  print(\"Found %d objects.\" % len(result[\"detection_scores\"]))\n",
        "  print(\"Inference time: \", end_time-start_time)\n",
        "  image = img.numpy()\n",
        "  image_pil = Image.fromarray(np.uint8(image)).convert(\"RGB\")\n",
        "  im_width, im_height = image_pil.size\n",
        "  result[\"box_areas\"] = []\n",
        "  for i in range(min(result[\"detection_boxes\"].shape[0], 10)):\n",
        "    if result[\"detection_scores\"][i] >= 0.1:\n",
        "      ymin, xmin, ymax, xmax = result[\"detection_boxes\"][i]\n",
        "      (left, right, top, bottom) = (xmin * im_width, xmax * im_width,\n",
        "                                ymin * im_height, ymax * im_height)\n",
        "      result[\"box_areas\"].append(abs(left - right) * abs(top - bottom))\n",
        "  import numpy\n",
        "  median_index = numpy.argsort(result[\"box_areas\"])[len(result[\"box_areas\"])//2]\n",
        "\n",
        "  ymin, xmin, ymax, xmax = result[\"detection_boxes\"][i]\n",
        "  (left, right, top, bottom) = (xmin * im_width, xmax * im_width, ymin * im_height, ymax * im_height)\n",
        "  real_left = min(left, right)\n",
        "  real_right = max(left,right)\n",
        "  real_top = min(bottom, top)\n",
        "  real_bottom = max(bottom,top)\n",
        "  box_width = real_right - real_left\n",
        "  box_height = real_top - real_bottom\n",
        "  hor_center = real_left + (box_width//2)\n",
        "  ver_center = real_top + (box_height//2)\n",
        "  print('im_height', im_height, im_width)\n",
        "  print('winner', result[\"detection_scores\"][median_index], result['box_areas'][median_index], real_left,real_right,real_top,real_bottom, hor_center, ver_center)\n",
        "\n",
        "  coord_file = open(\"/content/drive/MyDrive/AI/Object_Detection/request/center_coordinates.txt\", \"w\")\n",
        "  coord_file.write(str(real_left) +','+ str(real_right) +','+str(real_top) +','+str(real_bottom))\n",
        "  coord_file.close()\n",
        "\n",
        "  # #sort result[\"detection_scores\"] and result[\"box_areas\"] in the same order\n",
        "  # print('result[\"box_areas\"]',result[\"box_areas\"])\n",
        "  # print('result[\"detection_scores\"]1', result[\"detection_scores\"])\n",
        "  # result[\"detection_scores\"] = result[\"detection_scores\"][np.argsort(result[\"box_areas\"])]\n",
        "  # print('result[\"detection_scores\"]2', result[\"detection_scores\"])\n",
        "\n",
        "\n",
        "\n",
        "  box_areas, image_with_boxes = draw_boxes(\n",
        "      image, result[\"detection_boxes\"],\n",
        "      result[\"detection_class_entities\"], result[\"detection_scores\"],median_index)\n",
        "  #DIRECTION BOXES -   ymin,  xmin, ymax, xmax, (there seems to be no pattern to the mins and maxes, sometimes mins higher, sometimes maxes)\n",
        "  #                     they get multiplied by image.size's width(x) and height(y) to get left, right, top, bottom of bounding box, but i suspect that left and right and top and bottom are sometimes swapped\n",
        "            #             either way we should be able to find the center positions witht these as well as the box areas\n",
        "            #             i say get the box areas and find the average and get the lower half of boxes, get their averages so i have the 1/4 to 1/2 boxes and in there get the one with the highest score\n",
        "            #               \n",
        "  #sort box_areas from smallest to largest\n",
        "  # print('box_areas: ', box_areas)\n",
        "  # box_areas.sort()\n",
        "  # print('box_areas_sorted: ', box_areas)\n",
        "  # first_half_box_areas = box_areas[len(box_areas)//2:]\n",
        "  # print('first_half_box_areas: ', first_half_box_areas)\n",
        "  # #sort first_half_box_areas from largest to smallest\n",
        "  # first_half_box_areas.sort(reverse=True)\n",
        "  # print('first_half_box_areas: ', first_half_box_areas)\n",
        "  # #get the larger half of first_half_box_areas\n",
        "  # second_half_box_areas = first_half_box_areas[len(first_half_box_areas)//2:]\n",
        "  # print('second_half_box_areas: ', second_half_box_areas)\n",
        "\n",
        "  #get the \n",
        "\n",
        "\n",
        "\n",
        "  \n",
        "  #print('result', result)\n",
        "  #dump the results to a file in the request_directory\n",
        "  # with open(request_directory + '/results.json', 'w') as f:\n",
        "  #   json.dump(result, f)\n",
        "  \n",
        "\n",
        "\n",
        "  display_image(image_with_boxes)"
      ]
    },
    {
      "cell_type": "code",
      "execution_count": null,
      "metadata": {
        "id": "n1zMJvsaa7SZ",
        "vscode": {
          "languageId": "python"
        }
      },
      "outputs": [],
      "source": [
        "\n",
        "#if request_directory does not exist, create it\n",
        "if not os.path.exists(request_directory):\n",
        "    os.makedirs(request_directory)\n",
        "while True:\n",
        "  #while request_directory is empty\n",
        "  while len(os.listdir(request_directory)) == 0:\n",
        "      time.sleep(1)\n",
        "  #get the name of the file in the request_directory\n",
        "  #print('os.listdir(request_directory)', os.listdir(request_directory))\n",
        "  for file in os.listdir(request_directory):\n",
        "    if file.endswith('.png'):\n",
        "      file_name = file\n",
        "      resized = download_and_resize_image(f'/content/drive/MyDrive/AI/Object_Detection/request/{file_name}', 256, 256, False)\n",
        "      run_detector(detector, resized)\n",
        "      #delete the file in the request_directory\n",
        "      os.remove(f'/content/drive/MyDrive/AI/Object_Detection/request/{file_name}')"
      ]
    }
  ],
  "metadata": {
    "accelerator": "TPU",
    "colab": {
      "collapsed_sections": [],
      "name": "Object_detection.ipynb",
      "private_outputs": true,
      "provenance": []
    },
    "kernelspec": {
      "display_name": "Python 3",
      "language": "python",
      "name": "python3"
    }
  },
  "nbformat": 4,
  "nbformat_minor": 0
}
