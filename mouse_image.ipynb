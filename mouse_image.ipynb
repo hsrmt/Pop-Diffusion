{
 "cells": [
  {
   "cell_type": "code",
   "execution_count": 15,
   "metadata": {},
   "outputs": [
    {
     "name": "stdout",
     "output_type": "stream",
     "text": [
      "Requirement already satisfied: jupyter_bbox_widget in /home/lunkwill/.local/lib/python3.8/site-packages (0.4.0)\n",
      "Requirement already satisfied: ipywidgets>=7.0.0 in /home/lunkwill/.local/lib/python3.8/site-packages (from jupyter_bbox_widget) (7.7.0)\n",
      "Requirement already satisfied: ipykernel>=4.5.1 in /home/lunkwill/.local/lib/python3.8/site-packages (from ipywidgets>=7.0.0->jupyter_bbox_widget) (6.15.0)\n",
      "Requirement already satisfied: ipython-genutils~=0.2.0 in /home/lunkwill/.local/lib/python3.8/site-packages (from ipywidgets>=7.0.0->jupyter_bbox_widget) (0.2.0)\n",
      "Requirement already satisfied: traitlets>=4.3.1 in /home/lunkwill/.local/lib/python3.8/site-packages (from ipywidgets>=7.0.0->jupyter_bbox_widget) (5.3.0)\n",
      "Requirement already satisfied: nbformat>=4.2.0 in /home/lunkwill/.local/lib/python3.8/site-packages (from ipywidgets>=7.0.0->jupyter_bbox_widget) (5.4.0)\n",
      "Requirement already satisfied: widgetsnbextension~=3.6.0 in /home/lunkwill/.local/lib/python3.8/site-packages (from ipywidgets>=7.0.0->jupyter_bbox_widget) (3.6.0)\n",
      "Requirement already satisfied: ipython>=4.0.0; python_version >= \"3.3\" in /home/lunkwill/.local/lib/python3.8/site-packages (from ipywidgets>=7.0.0->jupyter_bbox_widget) (8.4.0)\n",
      "Requirement already satisfied: jupyterlab-widgets>=1.0.0; python_version >= \"3.6\" in /home/lunkwill/.local/lib/python3.8/site-packages (from ipywidgets>=7.0.0->jupyter_bbox_widget) (1.1.0)\n",
      "Requirement already satisfied: debugpy>=1.0 in /home/lunkwill/.local/lib/python3.8/site-packages (from ipykernel>=4.5.1->ipywidgets>=7.0.0->jupyter_bbox_widget) (1.6.0)\n",
      "Requirement already satisfied: jupyter-client>=6.1.12 in /home/lunkwill/.local/lib/python3.8/site-packages (from ipykernel>=4.5.1->ipywidgets>=7.0.0->jupyter_bbox_widget) (7.3.4)\n",
      "Requirement already satisfied: matplotlib-inline>=0.1 in /home/lunkwill/.local/lib/python3.8/site-packages (from ipykernel>=4.5.1->ipywidgets>=7.0.0->jupyter_bbox_widget) (0.1.3)\n",
      "Requirement already satisfied: nest-asyncio in /home/lunkwill/.local/lib/python3.8/site-packages (from ipykernel>=4.5.1->ipywidgets>=7.0.0->jupyter_bbox_widget) (1.5.5)\n",
      "Requirement already satisfied: packaging in /home/lunkwill/.local/lib/python3.8/site-packages (from ipykernel>=4.5.1->ipywidgets>=7.0.0->jupyter_bbox_widget) (21.3)\n",
      "Requirement already satisfied: psutil in /home/lunkwill/.local/lib/python3.8/site-packages (from ipykernel>=4.5.1->ipywidgets>=7.0.0->jupyter_bbox_widget) (5.9.1)\n",
      "Requirement already satisfied: pyzmq>=17 in /home/lunkwill/.local/lib/python3.8/site-packages (from ipykernel>=4.5.1->ipywidgets>=7.0.0->jupyter_bbox_widget) (23.2.0)\n",
      "Requirement already satisfied: tornado>=6.1 in /home/lunkwill/.local/lib/python3.8/site-packages (from ipykernel>=4.5.1->ipywidgets>=7.0.0->jupyter_bbox_widget) (6.1)\n",
      "Requirement already satisfied: jsonschema>=2.6 in /usr/lib/python3/dist-packages (from nbformat>=4.2.0->ipywidgets>=7.0.0->jupyter_bbox_widget) (3.2.0)\n",
      "Requirement already satisfied: jupyter-core in /home/lunkwill/.local/lib/python3.8/site-packages (from nbformat>=4.2.0->ipywidgets>=7.0.0->jupyter_bbox_widget) (4.10.0)\n",
      "Requirement already satisfied: fastjsonschema in /home/lunkwill/.local/lib/python3.8/site-packages (from nbformat>=4.2.0->ipywidgets>=7.0.0->jupyter_bbox_widget) (2.15.3)\n",
      "Requirement already satisfied: notebook>=4.4.1 in /home/lunkwill/.local/lib/python3.8/site-packages (from widgetsnbextension~=3.6.0->ipywidgets>=7.0.0->jupyter_bbox_widget) (6.4.12)\n",
      "Requirement already satisfied: backcall in /home/lunkwill/.local/lib/python3.8/site-packages (from ipython>=4.0.0; python_version >= \"3.3\"->ipywidgets>=7.0.0->jupyter_bbox_widget) (0.2.0)\n",
      "Requirement already satisfied: decorator in /home/lunkwill/.local/lib/python3.8/site-packages (from ipython>=4.0.0; python_version >= \"3.3\"->ipywidgets>=7.0.0->jupyter_bbox_widget) (5.1.1)\n",
      "Requirement already satisfied: jedi>=0.16 in /home/lunkwill/.local/lib/python3.8/site-packages (from ipython>=4.0.0; python_version >= \"3.3\"->ipywidgets>=7.0.0->jupyter_bbox_widget) (0.18.1)\n",
      "Requirement already satisfied: pickleshare in /home/lunkwill/.local/lib/python3.8/site-packages (from ipython>=4.0.0; python_version >= \"3.3\"->ipywidgets>=7.0.0->jupyter_bbox_widget) (0.7.5)\n",
      "Requirement already satisfied: prompt-toolkit!=3.0.0,!=3.0.1,<3.1.0,>=2.0.0 in /home/lunkwill/.local/lib/python3.8/site-packages (from ipython>=4.0.0; python_version >= \"3.3\"->ipywidgets>=7.0.0->jupyter_bbox_widget) (3.0.29)\n",
      "Requirement already satisfied: pygments>=2.4.0 in /home/lunkwill/.local/lib/python3.8/site-packages (from ipython>=4.0.0; python_version >= \"3.3\"->ipywidgets>=7.0.0->jupyter_bbox_widget) (2.12.0)\n",
      "Requirement already satisfied: setuptools>=18.5 in /home/lunkwill/.local/lib/python3.8/site-packages (from ipython>=4.0.0; python_version >= \"3.3\"->ipywidgets>=7.0.0->jupyter_bbox_widget) (62.6.0)\n",
      "Requirement already satisfied: stack-data in /home/lunkwill/.local/lib/python3.8/site-packages (from ipython>=4.0.0; python_version >= \"3.3\"->ipywidgets>=7.0.0->jupyter_bbox_widget) (0.3.0)\n",
      "Requirement already satisfied: pexpect>4.3; sys_platform != \"win32\" in /home/lunkwill/.local/lib/python3.8/site-packages (from ipython>=4.0.0; python_version >= \"3.3\"->ipywidgets>=7.0.0->jupyter_bbox_widget) (4.8.0)\n",
      "Requirement already satisfied: entrypoints in /home/lunkwill/.local/lib/python3.8/site-packages (from jupyter-client>=6.1.12->ipykernel>=4.5.1->ipywidgets>=7.0.0->jupyter_bbox_widget) (0.4)\n",
      "Requirement already satisfied: python-dateutil>=2.8.2 in /home/lunkwill/.local/lib/python3.8/site-packages (from jupyter-client>=6.1.12->ipykernel>=4.5.1->ipywidgets>=7.0.0->jupyter_bbox_widget) (2.8.2)\n",
      "Requirement already satisfied: pyparsing!=3.0.5,>=2.0.2 in /home/lunkwill/.local/lib/python3.8/site-packages (from packaging->ipykernel>=4.5.1->ipywidgets>=7.0.0->jupyter_bbox_widget) (3.0.9)\n",
      "Requirement already satisfied: jinja2 in /home/lunkwill/.local/lib/python3.8/site-packages (from notebook>=4.4.1->widgetsnbextension~=3.6.0->ipywidgets>=7.0.0->jupyter_bbox_widget) (3.1.2)\n",
      "Requirement already satisfied: argon2-cffi in /home/lunkwill/.local/lib/python3.8/site-packages (from notebook>=4.4.1->widgetsnbextension~=3.6.0->ipywidgets>=7.0.0->jupyter_bbox_widget) (21.3.0)\n",
      "Requirement already satisfied: nbconvert>=5 in /home/lunkwill/.local/lib/python3.8/site-packages (from notebook>=4.4.1->widgetsnbextension~=3.6.0->ipywidgets>=7.0.0->jupyter_bbox_widget) (6.5.0)\n",
      "Requirement already satisfied: Send2Trash>=1.8.0 in /home/lunkwill/.local/lib/python3.8/site-packages (from notebook>=4.4.1->widgetsnbextension~=3.6.0->ipywidgets>=7.0.0->jupyter_bbox_widget) (1.8.0)\n",
      "Requirement already satisfied: terminado>=0.8.3 in /home/lunkwill/.local/lib/python3.8/site-packages (from notebook>=4.4.1->widgetsnbextension~=3.6.0->ipywidgets>=7.0.0->jupyter_bbox_widget) (0.15.0)\n",
      "Requirement already satisfied: prometheus-client in /home/lunkwill/.local/lib/python3.8/site-packages (from notebook>=4.4.1->widgetsnbextension~=3.6.0->ipywidgets>=7.0.0->jupyter_bbox_widget) (0.14.1)\n",
      "Requirement already satisfied: parso<0.9.0,>=0.8.0 in /home/lunkwill/.local/lib/python3.8/site-packages (from jedi>=0.16->ipython>=4.0.0; python_version >= \"3.3\"->ipywidgets>=7.0.0->jupyter_bbox_widget) (0.8.3)\n",
      "Requirement already satisfied: wcwidth in /home/lunkwill/.local/lib/python3.8/site-packages (from prompt-toolkit!=3.0.0,!=3.0.1,<3.1.0,>=2.0.0->ipython>=4.0.0; python_version >= \"3.3\"->ipywidgets>=7.0.0->jupyter_bbox_widget) (0.2.5)\n",
      "Requirement already satisfied: executing in /home/lunkwill/.local/lib/python3.8/site-packages (from stack-data->ipython>=4.0.0; python_version >= \"3.3\"->ipywidgets>=7.0.0->jupyter_bbox_widget) (0.8.3)\n",
      "Requirement already satisfied: asttokens in /home/lunkwill/.local/lib/python3.8/site-packages (from stack-data->ipython>=4.0.0; python_version >= \"3.3\"->ipywidgets>=7.0.0->jupyter_bbox_widget) (2.0.5)\n",
      "Requirement already satisfied: pure-eval in /home/lunkwill/.local/lib/python3.8/site-packages (from stack-data->ipython>=4.0.0; python_version >= \"3.3\"->ipywidgets>=7.0.0->jupyter_bbox_widget) (0.2.2)\n",
      "Requirement already satisfied: ptyprocess>=0.5 in /home/lunkwill/.local/lib/python3.8/site-packages (from pexpect>4.3; sys_platform != \"win32\"->ipython>=4.0.0; python_version >= \"3.3\"->ipywidgets>=7.0.0->jupyter_bbox_widget) (0.7.0)\n",
      "Requirement already satisfied: six>=1.5 in /home/lunkwill/.local/lib/python3.8/site-packages (from python-dateutil>=2.8.2->jupyter-client>=6.1.12->ipykernel>=4.5.1->ipywidgets>=7.0.0->jupyter_bbox_widget) (1.16.0)\n",
      "Requirement already satisfied: MarkupSafe>=2.0 in /home/lunkwill/.local/lib/python3.8/site-packages (from jinja2->notebook>=4.4.1->widgetsnbextension~=3.6.0->ipywidgets>=7.0.0->jupyter_bbox_widget) (2.1.1)\n",
      "Requirement already satisfied: argon2-cffi-bindings in /home/lunkwill/.local/lib/python3.8/site-packages (from argon2-cffi->notebook>=4.4.1->widgetsnbextension~=3.6.0->ipywidgets>=7.0.0->jupyter_bbox_widget) (21.2.0)\n",
      "Requirement already satisfied: beautifulsoup4 in /usr/lib/python3/dist-packages (from nbconvert>=5->notebook>=4.4.1->widgetsnbextension~=3.6.0->ipywidgets>=7.0.0->jupyter_bbox_widget) (4.8.2)\n",
      "Requirement already satisfied: bleach in /home/lunkwill/.local/lib/python3.8/site-packages (from nbconvert>=5->notebook>=4.4.1->widgetsnbextension~=3.6.0->ipywidgets>=7.0.0->jupyter_bbox_widget) (5.0.0)\n",
      "Requirement already satisfied: defusedxml in /home/lunkwill/.local/lib/python3.8/site-packages (from nbconvert>=5->notebook>=4.4.1->widgetsnbextension~=3.6.0->ipywidgets>=7.0.0->jupyter_bbox_widget) (0.7.1)\n",
      "Requirement already satisfied: jupyterlab-pygments in /home/lunkwill/.local/lib/python3.8/site-packages (from nbconvert>=5->notebook>=4.4.1->widgetsnbextension~=3.6.0->ipywidgets>=7.0.0->jupyter_bbox_widget) (0.2.2)\n",
      "Requirement already satisfied: mistune<2,>=0.8.1 in /home/lunkwill/.local/lib/python3.8/site-packages (from nbconvert>=5->notebook>=4.4.1->widgetsnbextension~=3.6.0->ipywidgets>=7.0.0->jupyter_bbox_widget) (0.8.4)\n",
      "Requirement already satisfied: nbclient>=0.5.0 in /home/lunkwill/.local/lib/python3.8/site-packages (from nbconvert>=5->notebook>=4.4.1->widgetsnbextension~=3.6.0->ipywidgets>=7.0.0->jupyter_bbox_widget) (0.6.4)\n",
      "Requirement already satisfied: pandocfilters>=1.4.1 in /home/lunkwill/.local/lib/python3.8/site-packages (from nbconvert>=5->notebook>=4.4.1->widgetsnbextension~=3.6.0->ipywidgets>=7.0.0->jupyter_bbox_widget) (1.5.0)\n",
      "Requirement already satisfied: tinycss2 in /home/lunkwill/.local/lib/python3.8/site-packages (from nbconvert>=5->notebook>=4.4.1->widgetsnbextension~=3.6.0->ipywidgets>=7.0.0->jupyter_bbox_widget) (1.1.1)\n",
      "Requirement already satisfied: cffi>=1.0.1 in /home/lunkwill/.local/lib/python3.8/site-packages (from argon2-cffi-bindings->argon2-cffi->notebook>=4.4.1->widgetsnbextension~=3.6.0->ipywidgets>=7.0.0->jupyter_bbox_widget) (1.15.0)\n",
      "Requirement already satisfied: webencodings in /usr/lib/python3/dist-packages (from bleach->nbconvert>=5->notebook>=4.4.1->widgetsnbextension~=3.6.0->ipywidgets>=7.0.0->jupyter_bbox_widget) (0.5.1)\n",
      "Requirement already satisfied: pycparser in /home/lunkwill/.local/lib/python3.8/site-packages (from cffi>=1.0.1->argon2-cffi-bindings->argon2-cffi->notebook>=4.4.1->widgetsnbextension~=3.6.0->ipywidgets>=7.0.0->jupyter_bbox_widget) (2.21)\n"
     ]
    },
    {
     "data": {
      "application/vnd.jupyter.widget-view+json": {
       "model_id": "6b37e14c127b446db0ea118292ff8ce6",
       "version_major": 2,
       "version_minor": 0
      },
      "text/plain": [
       "BBoxWidget(classes=['apple', 'orange', 'pear'], colors=['#1f77b4', '#ff7f0e', '#2ca02c', '#d62728', '#9467bd',…"
      ]
     },
     "metadata": {},
     "output_type": "display_data"
    }
   ],
   "source": [
    "!pip install jupyter_bbox_widget\n",
    "from jupyter_bbox_widget import BBoxWidget\n",
    "widget = BBoxWidget(\n",
    "    image='ODimage.png',\n",
    "    classes=['apple', 'orange', 'pear'],\n",
    ")\n",
    "widget\n",
    "\n"
   ]
  }
 ],
 "metadata": {
  "kernelspec": {
   "display_name": "Python 3.8.10 64-bit",
   "language": "python",
   "name": "python3"
  },
  "language_info": {
   "codemirror_mode": {
    "name": "ipython",
    "version": 3
   },
   "file_extension": ".py",
   "mimetype": "text/x-python",
   "name": "python",
   "nbconvert_exporter": "python",
   "pygments_lexer": "ipython3",
   "version": "3.8.10"
  },
  "orig_nbformat": 4,
  "vscode": {
   "interpreter": {
    "hash": "31f2aee4e71d21fbe5cf8b01ff0e069b9275f58929596ceb00d14d90e3e16cd6"
   }
  }
 },
 "nbformat": 4,
 "nbformat_minor": 2
}
